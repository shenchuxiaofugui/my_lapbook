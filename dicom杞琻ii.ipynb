{
 "cells": [
  {
   "cell_type": "code",
   "execution_count": 3,
   "id": "6f44154f",
   "metadata": {},
   "outputs": [],
   "source": [
    "import SimpleITK as sitk\n",
    "import os\n",
    "\n",
    "\n",
    "def dcm2nii(dcms_path, nii_path):\n",
    "    # 1.构建dicom序列文件阅读器，并执行（即将dicom序列文件“打包整合”）\n",
    "    reader = sitk.ImageSeriesReader()\n",
    "    dicom_names = reader.GetGDCMSeriesFileNames(dcms_path)\n",
    "    reader.SetFileNames(dicom_names)\n",
    "    image2 = reader.Execute()\n",
    "    # 2.将整合后的数据转为array，并获取dicom文件基本信息\n",
    "    image_array = sitk.GetArrayFromImage(image2)  # z, y, x\n",
    "    origin = image2.GetOrigin()  # x, y, z\n",
    "    spacing = image2.GetSpacing()  # x, y, z\n",
    "    direction = image2.GetDirection()  # x, y, z\n",
    "    # 3.将array转为img，并保存为.nii.gz\n",
    "    image3 = sitk.GetImageFromArray(image_array)\n",
    "    image3.SetSpacing(spacing)\n",
    "    image3.SetDirection(direction)\n",
    "    image3.SetOrigin(origin)\n",
    "    sitk.WriteImage(image3, nii_path)\n",
    "\n",
    "\n",
    "if __name__ == '__main__':\n",
    "    dcms_path = r'C:\\Users\\handsome\\Documents\\WeChat Files\\wxid_hncq0l75v1pq21\\FileStorage\\File\\2021-12\\MM_chenkongyou'  # dicom序列文件所在路径\n",
    "    for picture in os.listdir(dcms_path):\n",
    "        dicm_img = os.path.join(dcms_path, picture)\n",
    "        nii_path =  os.path.join(dcms_path, f'{picture}.nii') # 所需.nii.gz文件保存路径\n",
    "        dcm2nii(dicm_img, nii_path)\n"
   ]
  },
  {
   "cell_type": "code",
   "execution_count": 29,
   "id": "858e3853",
   "metadata": {},
   "outputs": [],
   "source": [
    "def read_dcm_series(dcm_path,nii_path):\n",
    "    '''\n",
    "    此函数已考虑dcm中阶矩与斜率的tag\n",
    "    输出的矩阵\n",
    "\n",
    "已按照世界坐标的顺序排列\n",
    "    :param dcm_path:\n",
    "    :param logger:\n",
    "    :return: sitk格式图像; series_id\n",
    "    '''\n",
    "    series_IDs = sitk.ImageSeriesReader.GetGDCMSeriesIDs(dcm_path) # 获取该路径下的seriesid的数量\n",
    "    nb_series = len(series_IDs)\n",
    "    series_file_names = sitk.ImageSeriesReader.GetGDCMSeriesFileNames(dcm_path)  # 获取该路径下所有的.dcm文件，并且根据世界坐标从小到大排序\n",
    "    series_reader = sitk.ImageSeriesReader()\n",
    "    series_reader.SetFileNames(series_file_names)\n",
    "\n",
    "\n",
    "    image_sitk = series_reader.Execute() #生成3D图像\n",
    "    sitk.WriteImage(image_sitk,nii_path)\n",
    "    #return image_sitk, series_IDs[0]\n"
   ]
  },
  {
   "cell_type": "code",
   "execution_count": 4,
   "id": "97263721",
   "metadata": {},
   "outputs": [
    {
     "name": "stdout",
     "output_type": "stream",
     "text": [
      "[2, 0, 4]\n"
     ]
    }
   ],
   "source": [
    "a = [1,0,1,0,1]\n",
    "b = [2,3,4]\n",
    "\n",
    "print(c)"
   ]
  },
  {
   "cell_type": "code",
   "execution_count": null,
   "id": "7b4e3786",
   "metadata": {},
   "outputs": [],
   "source": []
  }
 ],
 "metadata": {
  "kernelspec": {
   "display_name": "Python 3",
   "language": "python",
   "name": "python3"
  },
  "language_info": {
   "codemirror_mode": {
    "name": "ipython",
    "version": 3
   },
   "file_extension": ".py",
   "mimetype": "text/x-python",
   "name": "python",
   "nbconvert_exporter": "python",
   "pygments_lexer": "ipython3",
   "version": "3.8.8"
  }
 },
 "nbformat": 4,
 "nbformat_minor": 5
}
