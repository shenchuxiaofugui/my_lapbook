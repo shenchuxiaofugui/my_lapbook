{
 "cells": [
  {
   "cell_type": "code",
   "execution_count": 1,
   "id": "86b4a7bf",
   "metadata": {},
   "outputs": [],
   "source": [
    "import os\n",
    "import SimpleITK as sitk\n",
    "import scipy.ndimage\n",
    "import numpy as np\n",
    "import pandas as pd"
   ]
  },
  {
   "cell_type": "code",
   "execution_count": 3,
   "id": "552a0c6e",
   "metadata": {},
   "outputs": [
    {
     "name": "stdout",
     "output_type": "stream",
     "text": [
      "5491529 (24, 320, 320)\n",
      "5492561 (24, 320, 320)\n",
      "5493978 (24, 320, 320)\n",
      "5495108 (26, 320, 320)\n",
      "5496616 (26, 320, 320)\n",
      "5498680 (24, 320, 320)\n",
      "5500765 (24, 320, 320)\n",
      "5500779 (24, 320, 320)\n",
      "5501400 (24, 320, 320)\n",
      "5503328 (24, 320, 320)\n",
      "5503877 (27, 320, 320)\n",
      "5503933 (26, 320, 320)\n",
      "5504079 (24, 320, 320)\n",
      "5504203 (26, 320, 320)\n",
      "5506687 (24, 320, 320)\n",
      "5508348 (24, 320, 320)\n",
      "5508549 (24, 320, 320)\n",
      "5509108 (24, 320, 320)\n",
      "5509229 (24, 320, 320)\n",
      "5509962 (24, 320, 320)\n",
      "5510569 (24, 320, 320)\n",
      "5510828 (24, 320, 320)\n",
      "5510957 (24, 320, 320)\n",
      "5510991 (24, 320, 320)\n",
      "5511314 (26, 320, 320)\n",
      "5511765 (24, 320, 320)\n",
      "5515092 (30, 320, 250)\n",
      "5515155 (24, 320, 320)\n",
      "5518719 (28, 320, 250)\n",
      "5520034 (24, 320, 320)\n",
      "5520376 (36, 320, 250)\n",
      "5520460 (48, 320, 250)\n",
      "5520892 (24, 320, 320)\n",
      "5521456 (24, 320, 320)\n",
      "5522176 (36, 320, 250)\n",
      "5523280 (32, 320, 250)\n",
      "5523528 (40, 320, 250)\n",
      "5525759 (40, 320, 250)\n",
      "5528459 (40, 320, 320)\n",
      "5529035 (40, 320, 250)\n",
      "5529681 (32, 250, 320)\n",
      "5530874 (40, 320, 250)\n",
      "5531052 (24, 320, 320)\n",
      "5531987 (24, 320, 320)\n",
      "5532254 (24, 320, 320)\n",
      "5532862 (24, 320, 320)\n",
      "5533463 (24, 320, 320)\n",
      "5533995 (24, 320, 320)\n",
      "5535166 (24, 320, 320)\n",
      "5535895 (24, 320, 320)\n",
      "5536372 (24, 320, 320)\n",
      "5536703 (24, 320, 320)\n",
      "5536840 (24, 320, 320)\n",
      "5536983 (24, 320, 320)\n",
      "5537045 (24, 320, 320)\n",
      "5540754 (24, 320, 320)\n",
      "5542052 (24, 320, 320)\n",
      "5542264 (24, 320, 320)\n",
      "5542427 (24, 320, 320)\n",
      "5542522 (24, 320, 320)\n",
      "5542703 (24, 320, 320)\n",
      "5544414 (30, 320, 320)\n",
      "5545498 (24, 320, 320)\n",
      "5546545 (24, 320, 320)\n",
      "5548487 (24, 320, 320)\n",
      "5550838 (22, 320, 320)\n",
      "5551697 (24, 320, 320)\n",
      "5552326 (24, 320, 320)\n",
      "5552805 (24, 320, 320)\n",
      "5552977 (24, 320, 320)\n",
      "5553716 (24, 320, 320)\n",
      "5554261 (24, 320, 320)\n",
      "5555616 (24, 320, 320)\n",
      "5555884 (24, 320, 320)\n",
      "5556488 (21, 320, 320)\n",
      "5560549 (24, 320, 320)\n",
      "5560847 (24, 320, 320)\n",
      "5562641 (24, 320, 320)\n",
      "5563193 (24, 320, 320)\n",
      "5566074 (24, 320, 320)\n",
      "5566703 (24, 320, 320)\n",
      "5568983 (25, 320, 320)\n",
      "5570627 (26, 320, 320)\n",
      "5571668 (26, 320, 320)\n",
      "5572117 (24, 320, 320)\n",
      "5572185 (24, 320, 320)\n",
      "5572342 (24, 320, 320)\n",
      "5572825 (24, 320, 320)\n",
      "5573724 (24, 320, 320)\n",
      "5574301 (24, 320, 320)\n",
      "5575873 (24, 320, 320)\n",
      "5576121 (24, 320, 320)\n",
      "5577367 (24, 320, 320)\n",
      "5579372 (24, 320, 320)\n",
      "5580662 (24, 320, 320)\n",
      "5581211 (25, 320, 320)\n",
      "5581736 (24, 320, 320)\n",
      "5581989 (24, 320, 320)\n",
      "5582944 (8, 320, 320)\n",
      "5585324 (28, 320, 320)\n",
      "5585390 (26, 320, 320)\n",
      "5585928 (25, 320, 320)\n",
      "5586963 (24, 320, 320)\n",
      "5588378 (24, 320, 320)\n",
      "5589412 (24, 320, 320)\n",
      "5589453 (24, 320, 320)\n",
      "5590111 (24, 320, 320)\n",
      "5590411 (24, 320, 320)\n",
      "5590539 (24, 320, 320)\n",
      "5590938 (24, 320, 320)\n",
      "5593123 (25, 320, 320)\n",
      "5593316 (24, 320, 320)\n",
      "5593461 (24, 320, 320)\n",
      "5594793 (24, 320, 320)\n",
      "5595466 (26, 320, 320)\n",
      "5595598 (24, 320, 320)\n",
      "5599191 (24, 320, 320)\n",
      "5599967 (24, 320, 320)\n",
      "5601550 (24, 320, 320)\n",
      "5604257 (16, 256, 256)\n",
      "5605344 (20, 256, 256)\n",
      "5612561 (16, 256, 256)\n",
      "5614039 (24, 320, 320)\n",
      "5615159 (24, 320, 320)\n",
      "5616430 (52, 250, 320)\n",
      "5617461 (24, 320, 320)\n",
      "5618479 (28, 256, 256)\n",
      "5618570 (16, 256, 256)\n",
      "5621195 (16, 256, 256)\n",
      "5621910 (24, 320, 320)\n",
      "5623641 (24, 320, 320)\n",
      "5629129 (24, 320, 320)\n",
      "5630892 (20, 256, 256)\n",
      "5635741 (20, 256, 256)\n",
      "5635928 (24, 320, 320)\n",
      "5636258 (20, 256, 256)\n",
      "5636730 (20, 256, 256)\n",
      "5638526 (26, 320, 320)\n",
      "5640190 (25, 320, 320)\n",
      "5641754 (20, 256, 256)\n",
      "5641783 (20, 256, 256)\n",
      "5642646 (20, 256, 256)\n",
      "5643921 (22, 256, 256)\n",
      "5649501 (24, 320, 320)\n",
      "5650389 (32, 256, 256)\n",
      "5664644 (20, 256, 256)\n",
      "5665504 (24, 320, 320)\n",
      "5666660 (20, 256, 256)\n",
      "5667498 (20, 256, 256)\n",
      "5668983 (24, 320, 320)\n",
      "5671128 (24, 320, 320)\n",
      "5677498 (16, 256, 256)\n"
     ]
    }
   ],
   "source": [
    "#查看哪些文件是大小不标准的\n",
    "path=r'\\\\mega\\syli\\dataset\\EC_seg\\EC-old1'\n",
    "dirs = os.listdir( path )\n",
    "for file in dirs:\n",
    "    file1=path+'\\\\'+file +'\\\\T1CE_roi.nii'\n",
    "    img=sitk.ReadImage(file1)\n",
    "    b=sitk.GetArrayFromImage(img)\n",
    "    print(file,b.shape)"
   ]
  },
  {
   "cell_type": "code",
   "execution_count": 14,
   "id": "71f501a3",
   "metadata": {},
   "outputs": [],
   "source": [
    "# mri图像的配准\n",
    "for file in dirs:\n",
    "    file1=path+'\\\\'+file+'\\\\CBV.nii'\n",
    "    img=sitk.ReadImage(file1)\n",
    "    spacing = img.GetSpacing()\n",
    "    direction = img.GetDirection()\n",
    "    origin = img.GetOrigin()\n",
    "    size = img.GetSize()\n",
    "    b=sitk.GetArrayFromImage(img)\n",
    "    if b.shape==(20,640,640) or b.shape==(22,640,640):\n",
    "        b=scipy.ndimage.interpolation.zoom(b,(1,384/640,384/640),order=3 )   \n",
    "    img1=sitk.GetImageFromArray(b)\n",
    "    img1.SetSpacing(spacing)\n",
    "    img1.SetDirection(direction)\n",
    "    img1.SetOrigin(origin)           #图片信息也得设置，roi也得该\n",
    "    #print(img1.GetSize(),path+file)\n",
    "    sitk.WriteImage(img1,path+'\\\\'+file+'\\\\CBVgai.nii')"
   ]
  },
  {
   "cell_type": "code",
   "execution_count": 15,
   "id": "638cc9ed",
   "metadata": {},
   "outputs": [],
   "source": [
    "#roi图像的配准\n",
    "for file in dirs:\n",
    "    file1=path+'\\\\'+file+'\\\\roi_2.nii'\n",
    "    if os.path.exists(file1):\n",
    "        img=sitk.ReadImage(file1)\n",
    "        spacing = img.GetSpacing()\n",
    "        direction = img.GetDirection()\n",
    "        origin = img.GetOrigin()\n",
    "        size = img.GetSize()\n",
    "        b=sitk.GetArrayFromImage(img)\n",
    "        if b.shape==(20,640,640) or b.shape==(22,640,640):\n",
    "            b=scipy.ndimage.interpolation.zoom(b,(1,384/640,384/640),order=3 )\n",
    "            b=np.round(b)\n",
    "        img1=sitk.GetImageFromArray(b)\n",
    "        img1.SetSpacing(spacing)\n",
    "        img1.SetDirection(direction)\n",
    "        img1.SetOrigin(origin)           #图片信息也得设置，roi也得该\n",
    "        #print(img1.GetSize(),path+file)\n",
    "        sitk.WriteImage(img1,path+'\\\\'+file+'\\\\roi_2gai.nii')"
   ]
  },
  {
   "cell_type": "code",
   "execution_count": 6,
   "id": "2d475b25",
   "metadata": {},
   "outputs": [
    {
     "data": {
      "text/plain": [
       "20"
      ]
     },
     "execution_count": 6,
     "metadata": {},
     "output_type": "execute_result"
    }
   ],
   "source": [
    "filepath=r'D:\\python\\dataset\\GBM-radiomics\\GBM-Radiomics map\\CENGXIANGSHEN_MR0250205\\roi_2gai.nii'\n",
    "img=sitk.ReadImage(filepath)\n",
    "b=sitk.GetArrayFromImage(img)\n",
    "img.GetSize()[2]"
   ]
  },
  {
   "cell_type": "code",
   "execution_count": 3,
   "id": "68eb968b",
   "metadata": {},
   "outputs": [],
   "source": [
    "#用simpleitk的配准函数\n",
    "def resize_image_itk(ori_img,target_img,resamplemethod=sitk.sitkNearestNeighbor):\n",
    "    \"\"\"\n",
    "    用itk方法将原始图像resample到与目标图像一致\n",
    "    :param ori_img: 原始需要对齐的itk图像\n",
    "    :param target_img: 要对齐的目标itk图像\n",
    "    :param resamplemethod: itk插值方法: sitk.sitkLinear-线性  sitk.sitkNearestNeighbor-最近邻\n",
    "    :return:img_res_itk: 重采样好的itk图像\n",
    "    使用示范：\n",
    "    import SimpleITK as sitk\n",
    "    target_img = sitk.ReadImage(target_img_file)\n",
    "    ori_img = sitk.ReadImage(ori_img_file)\n",
    "    img_r = resize_image_itk(ori_img, target_img, resamplemethod=sitk.sitkLinear)\n",
    "    \"\"\"\n",
    "    target_Size = target_img.GetSize()      # 目标图像大小  [x,y,z]\n",
    "    target_Spacing = target_img.GetSpacing()   # 目标的体素块尺寸    [x,y,z]\n",
    "    target_origin = target_img.GetOrigin()      # 目标的起点 [x,y,z]\n",
    "    target_direction = target_img.GetDirection()  # 目标的方向 [冠,矢,横]=[z,y,x]\n",
    "\n",
    "    # itk的方法进行resample\n",
    "    resampler = sitk.ResampleImageFilter()\n",
    "    resampler.SetReferenceImage(ori_img)  # 需要重新采样的目标图像\n",
    "    # 设置目标图像的信息\n",
    "    resampler.SetSize(target_Size)\t\t# 目标图像大小\n",
    "    resampler.SetOutputOrigin(target_origin)\n",
    "    resampler.SetOutputDirection(target_direction)\n",
    "    resampler.SetOutputSpacing(target_Spacing)\n",
    "    # 根据需要重采样图像的情况设置不同的dype\n",
    "    if resamplemethod == sitk.sitkNearestNeighbor:\n",
    "        resampler.SetOutputPixelType(sitk.sitkUInt8)   # 近邻插值用于mask的，保存uint8\n",
    "    else:\n",
    "        resampler.SetOutputPixelType(sitk.sitkFloat32)  # 线性插值用于PET/CT/MRI之类的，保存float32\n",
    "    resampler.SetTransform(sitk.Transform(3, sitk.sitkIdentity))    \n",
    "    resampler.SetInterpolator(resamplemethod)\n",
    "    itk_img_resampled = resampler.Execute(ori_img)  # 得到重新采样后的图像\n",
    "    return itk_img_resampled\n"
   ]
  },
  {
   "cell_type": "code",
   "execution_count": 8,
   "id": "a860819f",
   "metadata": {
    "scrolled": true
   },
   "outputs": [],
   "source": [
    "#配准，注意第三个参数设置\n",
    "target_img_file=r'D:\\python\\dataset\\GBM-radiomics\\GBM-Radiomics map\\AI_LIAN_QUAN_MR0401919\\roi_2.nii'\n",
    "target_img = sitk.ReadImage(target_img_file)\n",
    "for file in dirs:\n",
    "    ori_img_file=path+'\\\\'+file+'\\\\roi_2.nii'\n",
    "    ori_img = sitk.ReadImage(ori_img_file)\n",
    "    if ori_img.GetSize()==(640,640,20) or ori_img.GetSize()==(640,640,22):\n",
    "        #print(ori_img.GetSize())\n",
    "        ori_img = resize_image_itk(ori_img, target_img)   #记得设置成线性插值,resamplemethod=sitk.sitkLinear\n",
    "        #print(ori_img.GetSize())\n",
    "    sitk.WriteImage(ori_img,path+'\\\\'+file+'\\\\roi_2gai_1.nii')"
   ]
  },
  {
   "cell_type": "code",
   "execution_count": 8,
   "id": "6208e6e0",
   "metadata": {},
   "outputs": [
    {
     "name": "stdout",
     "output_type": "stream",
     "text": [
      "28 2\n"
     ]
    }
   ],
   "source": [
    "#输出ROI有多少层\n",
    "path=r'\\\\mega\\syli\\dataset\\Primary and metastatic\\Primary'\n",
    "dirs = os.listdir( path )\n",
    "ceng_min=100\n",
    "ceng_max=0\n",
    "for file in dirs:\n",
    "    file1=path+'\\\\'+file+'\\\\DWI_roi.nii.gz'\n",
    "    try:\n",
    "        img=sitk.ReadImage(file1)\n",
    "        b=sitk.GetArrayFromImage(img)\n",
    "        ceng_size=0\n",
    "        for i in b:\n",
    "            if sum(sum(i)) != 0:\n",
    "                ceng_size+=1\n",
    "        if ceng_size<ceng_min:\n",
    "            ceng_min=ceng_size\n",
    "        if ceng_size>ceng_max:\n",
    "            ceng_max=ceng_size\n",
    "    except:\n",
    "        continue\n",
    "print(ceng_max,ceng_min)"
   ]
  },
  {
   "cell_type": "code",
   "execution_count": 1,
   "id": "09d3c04d",
   "metadata": {
    "scrolled": true
   },
   "outputs": [],
   "source": [
    "import SimpleITK as sitk\n",
    "from skimage import exposure\n",
    "import itkwidgets\n",
    "import numpy as np\n",
    "import matplotlib.pyplot as plt\n",
    "img=sitk.ReadImage(r'\\\\mega\\syli\\dataset\\Primary and metastatic\\Primary\\102731520\\T1.nii')\n",
    "ori_arr=sitk.GetArrayFromImage(img)"
   ]
  },
  {
   "cell_type": "code",
   "execution_count": 5,
   "id": "dadeef5a",
   "metadata": {},
   "outputs": [],
   "source": [
    "new_img = sitk.GetImageFromArray(adapt_arr)\n",
    "new_img.CopyInformation(img)\n",
    "sitk.WriteImage(new_img, '../hahah.nii')"
   ]
  },
  {
   "cell_type": "code",
   "execution_count": 9,
   "id": "7ca36305",
   "metadata": {},
   "outputs": [
    {
     "name": "stdout",
     "output_type": "stream",
     "text": [
      "0 1923\n",
      "7077888 5656977\n"
     ]
    },
    {
     "data": {
      "image/png": "[encoded data removed]",
      "text/plain": [
       "<Figure size 432x288 with 1 Axes>"
      ]
     },
     "metadata": {
      "needs_background": "light"
     },
     "output_type": "display_data"
    }
   ],
   "source": [
    "#原图的直方图\n",
    "print(ori_arr.min(), ori_arr.max())\n",
    "print(len(ori_arr.flatten()), np.count_nonzero(ori_arr))\n",
    "plt.figure(\"hist\")\n",
    "arr=ori_arr.flatten()\n",
    "#arr = np.argwhere(arr)\n",
    "n, bins, patches = plt.hist(arr, bins=50, edgecolor='None',facecolor='red')  \n",
    "plt.show()"
   ]
  },
  {
   "cell_type": "code",
   "execution_count": 36,
   "id": "3624c149",
   "metadata": {},
   "outputs": [
    {
     "name": "stdout",
     "output_type": "stream",
     "text": [
      "0.0 1206.0\n",
      "7077888 5656977\n"
     ]
    },
    {
     "data": {
      "text/plain": [
       "<Figure size 432x288 with 0 Axes>"
      ]
     },
     "metadata": {},
     "output_type": "display_data"
    },
    {
     "data": {
      "image/png": "[encoded data removed]",
      "text/plain": [
       "<Figure size 432x288 with 1 Axes>"
      ]
     },
     "metadata": {
      "needs_background": "light"
     },
     "output_type": "display_data"
    }
   ],
   "source": [
    "#减小像素区间后的直方图\n",
    "clip_arr = np.clip(ori_arr, np.percentile(ori_arr, 0.05), np.percentile(ori_arr, 99.5))\n",
    "print(clip_arr.min(), clip_arr.max())\n",
    "print(len(clip_arr.flatten()), np.count_nonzero(clip_arr))\n",
    "plt.clf()\n",
    "plt.figure(\"hist\")\n",
    "arr=clip_arr.flatten()\n",
    "n, bins, patches = plt.hist(arr, bins=50, edgecolor='None',facecolor='red')  \n",
    "plt.show()"
   ]
  },
  {
   "cell_type": "code",
   "execution_count": 15,
   "id": "ce79c110",
   "metadata": {},
   "outputs": [
    {
     "name": "stdout",
     "output_type": "stream",
     "text": [
      "609546.2381695269 35879.95300221254\n"
     ]
    }
   ],
   "source": [
    "#exposure.equalize_adapthist后的直方图\n",
    "from skimage import img_as_float\n",
    "# print(adapt_arr.min(), adapt_arr.max())\n",
    "# print(len(adapt_arr.flatten()), np.count_nonzero(adapt_arr))\n",
    "# plt.clf()\n",
    "# plt.figure(\"hist\")\n",
    "# arr=adapt_arr.flatten()\n",
    "# #arr = np.argwhere(arr)\n",
    "# n, bins, patches = plt.hist(arr, bins=50, edgecolor='None',facecolor='red')  \n",
    "# plt.show()\n",
    "adapt_arr1 = exposure.equalize_adapthist(ori_arr)  #直接均衡化\n",
    "minmax_arr =  (ori_arr - np.min(ori_arr)) / (np.max(ori_arr) - np.min(ori_arr))\n",
    "minmax_arr1 = img_as_float(ori_arr)\n",
    "adapt_arr = exposure.equalize_adapthist(minmax_arr)   #先归一化，再均衡化\n",
    "print(minmax_arr.sum(),minmax_arr1.sum())"
   ]
  },
  {
   "cell_type": "code",
   "execution_count": 38,
   "id": "38805d4f",
   "metadata": {
    "scrolled": false
   },
   "outputs": [
    {
     "name": "stdout",
     "output_type": "stream",
     "text": [
      "0.20075352986653647 1.0\n",
      "7077888 7077888\n"
     ]
    },
    {
     "data": {
      "text/plain": [
       "<Figure size 432x288 with 0 Axes>"
      ]
     },
     "metadata": {},
     "output_type": "display_data"
    },
    {
     "data": {
      "image/png": "[encoded data removed]",
      "text/plain": [
       "<Figure size 432x288 with 1 Axes>"
      ]
     },
     "metadata": {
      "needs_background": "light"
     },
     "output_type": "display_data"
    }
   ],
   "source": [
    "#exposure.equalize_hist后的直方图\n",
    "hist_arr = exposure.equalize_hist(ori_arr)\n",
    "print(hist_arr.min(), hist_arr.max())\n",
    "print(len(hist_arr.flatten()), np.count_nonzero(hist_arr))\n",
    "plt.clf()\n",
    "plt.figure(\"hist\")\n",
    "arr=hist_arr.flatten()\n",
    "n, bins, patches = plt.hist(arr, bins=50, edgecolor='None',facecolor='red')  \n",
    "plt.show()"
   ]
  },
  {
   "cell_type": "code",
   "execution_count": 39,
   "id": "80b982b1",
   "metadata": {},
   "outputs": [
    {
     "name": "stdout",
     "output_type": "stream",
     "text": [
      "68 1871\n",
      "7077888 7077888\n"
     ]
    },
    {
     "data": {
      "text/plain": [
       "<Figure size 432x288 with 0 Axes>"
      ]
     },
     "metadata": {},
     "output_type": "display_data"
    },
    {
     "data": {
      "image/png": "[encoded data removed]",
      "text/plain": [
       "<Figure size 432x288 with 1 Axes>"
      ]
     },
     "metadata": {
      "needs_background": "light"
     },
     "output_type": "display_data"
    }
   ],
   "source": [
    "#sitk.AdaptiveHistogramEqualization后的直方图\n",
    "sitk_adapt_img = sitk.AdaptiveHistogramEqualization(img)\n",
    "sitk_adapt_arr = sitk.GetArrayFromImage(sitk_adapt_img)\n",
    "print(sitk_adapt_arr.min(), sitk_adapt_arr.max())\n",
    "print(len(sitk_adapt_arr.flatten()), np.count_nonzero(sitk_adapt_arr))\n",
    "plt.clf()\n",
    "plt.figure(\"hist\")\n",
    "arr=sitk_adapt_arr.flatten()\n",
    "n, bins, patches = plt.hist(arr, bins=50, edgecolor='None',facecolor='red')  \n",
    "plt.show()"
   ]
  },
  {
   "cell_type": "code",
   "execution_count": 59,
   "id": "f3c98034",
   "metadata": {},
   "outputs": [
    {
     "name": "stdout",
     "output_type": "stream",
     "text": [
      "0.0 1491.0\n"
     ]
    }
   ],
   "source": [
    "clip_arr = np.clip(ori_arr, np.percentile(ori_arr, 0.05), np.percentile(ori_arr, 99.95))\n",
    "print(clip_arr.min(), clip_arr.max())"
   ]
  },
  {
   "cell_type": "code",
   "execution_count": 13,
   "id": "67a9445f",
   "metadata": {},
   "outputs": [
    {
     "data": {
      "text/plain": [
       "[<matplotlib.lines.Line2D at 0x2532e013490>]"
      ]
     },
     "execution_count": 13,
     "metadata": {},
     "output_type": "execute_result"
    },
    {
     "data": {
      "image/png": "[encoded data removed]",
      "text/plain": [
       "<Figure size 432x288 with 1 Axes>"
      ]
     },
     "metadata": {
      "needs_background": "light"
     },
     "output_type": "display_data"
    }
   ],
   "source": [
    "import matplotlib.pyplot as plt\n",
    "hist1, bins = np.histogram(b.ravel(), 50, [0, 2000])#hist1 每个灰度值的频数\n",
    "cdf = hist1.cumsum()#累加频数得累计直方图\n",
    "cdf_normalised = cdf * float(hist1.max() / cdf.max())#把累计直方图的比例化到近似直方图\n",
    "plt.plot(cdf_normalised,color='blue')"
   ]
  },
  {
   "cell_type": "code",
   "execution_count": 52,
   "id": "2917fa50",
   "metadata": {},
   "outputs": [
    {
     "name": "stdout",
     "output_type": "stream",
     "text": [
      "7077888 5656977 1420911\n",
      "True\n"
     ]
    }
   ],
   "source": [
    "# a = adapt_arr.flatten().tolist()\n",
    "# b = [i for i in a if i != 0]\n",
    "a=ori_arr.flatten()\n",
    "print(len(a), np.count_nonzero(ori_arr),len(np.argwhere(a == 0)))\n",
    "b = np.delete(a, np.argwhere(a == 0))\n",
    "c = b\n",
    "for i in np.argwhere(a == 0):\n",
    "    c = np.insert(c,i,0)\n",
    "print(a.all() == c.all())\n",
    "\n",
    "#对非零元进行循环\n",
    "d = np.zeros(10)\n",
    "no_zero = np.argwhere(a).tolist()\n",
    "for j in range(len(no_zero)):\n",
    "    d[no_zero[j]] = b[j]"
   ]
  },
  {
   "cell_type": "code",
   "execution_count": 60,
   "id": "93e87bc0",
   "metadata": {},
   "outputs": [
    {
     "data": {
      "text/plain": [
       "[3, 64, 64]"
      ]
     },
     "execution_count": 60,
     "metadata": {},
     "output_type": "execute_result"
    }
   ],
   "source": [
    "kernel_size = tuple([ori_arr.shape[dim] // 8\n",
    "                             for dim in range(ori_arr.ndim)])\n",
    "kernel_size = [int(k) for k in kernel_size]\n",
    "kernel_size"
   ]
  },
  {
   "cell_type": "code",
   "execution_count": 26,
   "id": "f546ba73",
   "metadata": {
    "scrolled": true
   },
   "outputs": [
    {
     "data": {
      "text/html": [
       "<div>\n",
       "<style scoped>\n",
       "    .dataframe tbody tr th:only-of-type {\n",
       "        vertical-align: middle;\n",
       "    }\n",
       "\n",
       "    .dataframe tbody tr th {\n",
       "        vertical-align: top;\n",
       "    }\n",
       "\n",
       "    .dataframe thead th {\n",
       "        text-align: right;\n",
       "    }\n",
       "</style>\n",
       "<table border=\"1\" class=\"dataframe\">\n",
       "  <thead>\n",
       "    <tr style=\"text-align: right;\">\n",
       "      <th></th>\n",
       "      <th>ID</th>\n",
       "      <th>label</th>\n",
       "    </tr>\n",
       "  </thead>\n",
       "  <tbody>\n",
       "    <tr>\n",
       "      <th>0</th>\n",
       "      <td>5576121</td>\n",
       "      <td>0</td>\n",
       "    </tr>\n",
       "    <tr>\n",
       "      <th>1</th>\n",
       "      <td>5577367</td>\n",
       "      <td>0</td>\n",
       "    </tr>\n",
       "    <tr>\n",
       "      <th>2</th>\n",
       "      <td>5579372</td>\n",
       "      <td>0</td>\n",
       "    </tr>\n",
       "    <tr>\n",
       "      <th>3</th>\n",
       "      <td>5580662</td>\n",
       "      <td>0</td>\n",
       "    </tr>\n",
       "    <tr>\n",
       "      <th>4</th>\n",
       "      <td>5581211</td>\n",
       "      <td>0</td>\n",
       "    </tr>\n",
       "    <tr>\n",
       "      <th>5</th>\n",
       "      <td>5581736</td>\n",
       "      <td>0</td>\n",
       "    </tr>\n",
       "    <tr>\n",
       "      <th>6</th>\n",
       "      <td>5581989</td>\n",
       "      <td>0</td>\n",
       "    </tr>\n",
       "    <tr>\n",
       "      <th>7</th>\n",
       "      <td>5582944</td>\n",
       "      <td>0</td>\n",
       "    </tr>\n",
       "    <tr>\n",
       "      <th>8</th>\n",
       "      <td>5585324</td>\n",
       "      <td>0</td>\n",
       "    </tr>\n",
       "    <tr>\n",
       "      <th>9</th>\n",
       "      <td>5585390</td>\n",
       "      <td>0</td>\n",
       "    </tr>\n",
       "    <tr>\n",
       "      <th>10</th>\n",
       "      <td>5585928</td>\n",
       "      <td>0</td>\n",
       "    </tr>\n",
       "    <tr>\n",
       "      <th>11</th>\n",
       "      <td>5586963</td>\n",
       "      <td>0</td>\n",
       "    </tr>\n",
       "    <tr>\n",
       "      <th>12</th>\n",
       "      <td>5588378</td>\n",
       "      <td>0</td>\n",
       "    </tr>\n",
       "    <tr>\n",
       "      <th>13</th>\n",
       "      <td>5589412</td>\n",
       "      <td>0</td>\n",
       "    </tr>\n",
       "    <tr>\n",
       "      <th>14</th>\n",
       "      <td>5589453</td>\n",
       "      <td>0</td>\n",
       "    </tr>\n",
       "    <tr>\n",
       "      <th>15</th>\n",
       "      <td>5590111</td>\n",
       "      <td>0</td>\n",
       "    </tr>\n",
       "    <tr>\n",
       "      <th>16</th>\n",
       "      <td>5590411</td>\n",
       "      <td>0</td>\n",
       "    </tr>\n",
       "    <tr>\n",
       "      <th>17</th>\n",
       "      <td>5590539</td>\n",
       "      <td>0</td>\n",
       "    </tr>\n",
       "    <tr>\n",
       "      <th>18</th>\n",
       "      <td>5590938</td>\n",
       "      <td>0</td>\n",
       "    </tr>\n",
       "    <tr>\n",
       "      <th>19</th>\n",
       "      <td>5593123</td>\n",
       "      <td>0</td>\n",
       "    </tr>\n",
       "    <tr>\n",
       "      <th>20</th>\n",
       "      <td>5593316</td>\n",
       "      <td>0</td>\n",
       "    </tr>\n",
       "    <tr>\n",
       "      <th>21</th>\n",
       "      <td>5593461</td>\n",
       "      <td>0</td>\n",
       "    </tr>\n",
       "    <tr>\n",
       "      <th>22</th>\n",
       "      <td>5594793</td>\n",
       "      <td>0</td>\n",
       "    </tr>\n",
       "    <tr>\n",
       "      <th>23</th>\n",
       "      <td>5595466</td>\n",
       "      <td>0</td>\n",
       "    </tr>\n",
       "    <tr>\n",
       "      <th>24</th>\n",
       "      <td>5595598</td>\n",
       "      <td>0</td>\n",
       "    </tr>\n",
       "    <tr>\n",
       "      <th>25</th>\n",
       "      <td>5599191</td>\n",
       "      <td>0</td>\n",
       "    </tr>\n",
       "    <tr>\n",
       "      <th>26</th>\n",
       "      <td>5599967</td>\n",
       "      <td>0</td>\n",
       "    </tr>\n",
       "    <tr>\n",
       "      <th>27</th>\n",
       "      <td>5601550</td>\n",
       "      <td>0</td>\n",
       "    </tr>\n",
       "    <tr>\n",
       "      <th>28</th>\n",
       "      <td>5604257</td>\n",
       "      <td>0</td>\n",
       "    </tr>\n",
       "    <tr>\n",
       "      <th>29</th>\n",
       "      <td>5605344</td>\n",
       "      <td>0</td>\n",
       "    </tr>\n",
       "  </tbody>\n",
       "</table>\n",
       "</div>"
      ],
      "text/plain": [
       "         ID  label\n",
       "0   5576121      0\n",
       "1   5577367      0\n",
       "2   5579372      0\n",
       "3   5580662      0\n",
       "4   5581211      0\n",
       "5   5581736      0\n",
       "6   5581989      0\n",
       "7   5582944      0\n",
       "8   5585324      0\n",
       "9   5585390      0\n",
       "10  5585928      0\n",
       "11  5586963      0\n",
       "12  5588378      0\n",
       "13  5589412      0\n",
       "14  5589453      0\n",
       "15  5590111      0\n",
       "16  5590411      0\n",
       "17  5590539      0\n",
       "18  5590938      0\n",
       "19  5593123      0\n",
       "20  5593316      0\n",
       "21  5593461      0\n",
       "22  5594793      0\n",
       "23  5595466      0\n",
       "24  5595598      0\n",
       "25  5599191      0\n",
       "26  5599967      0\n",
       "27  5601550      0\n",
       "28  5604257      0\n",
       "29  5605344      0"
      ]
     },
     "execution_count": 26,
     "metadata": {},
     "output_type": "execute_result"
    }
   ],
   "source": [
    "path=r'\\\\mega\\syli\\dataset\\EC_seg\\EC-old1'\n",
    "dirs = os.listdir( path )\n",
    "grid = [dirs[91:121],[0] * 30]\n",
    "a = [[row[i] for row in grid] for i in range(len(grid[0]))]\n",
    "df = pd.DataFrame(a,columns=['ID','label'])\n",
    "df.to_csv(r'\\\\mega\\syli\\python\\yantao\\dada\\index' + '\\\\val_index.csv',index=False) #\\\\mega\\syli\\python\\yantao\\dada\\index\n",
    "df"
   ]
  },
  {
   "cell_type": "code",
   "execution_count": 24,
   "id": "88fb63c0",
   "metadata": {},
   "outputs": [
    {
     "data": {
      "text/plain": [
       "False"
      ]
     },
     "execution_count": 24,
     "metadata": {},
     "output_type": "execute_result"
    }
   ],
   "source": [
    "[1,1,3,4] != [1,1,3,4]"
   ]
  },
  {
   "cell_type": "code",
   "execution_count": null,
   "id": "7e1de55d",
   "metadata": {},
   "outputs": [],
   "source": []
  }
 ],
 "metadata": {
  "kernelspec": {
   "display_name": "Python 3",
   "language": "python",
   "name": "python3"
  },
  "language_info": {
   "codemirror_mode": {
    "name": "ipython",
    "version": 3
   },
   "file_extension": ".py",
   "mimetype": "text/x-python",
   "name": "python",
   "nbconvert_exporter": "python",
   "pygments_lexer": "ipython3",
   "version": "3.8.8"
  }
 },
 "nbformat": 4,
 "nbformat_minor": 5
}
